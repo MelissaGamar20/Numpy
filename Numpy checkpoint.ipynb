{
 "cells": [
  {
   "cell_type": "code",
   "execution_count": 2,
   "id": "4828280a",
   "metadata": {},
   "outputs": [
    {
     "name": "stdout",
     "output_type": "stream",
     "text": [
      "[[1, 2, 3], [4, 5, 6]]\n"
     ]
    }
   ],
   "source": [
    "#QST 01\n",
    "import numpy as np\n",
    "na=np.array([[1,2,3],[4,5,6]])\n",
    "print(na.tolist())"
   ]
  },
  {
   "cell_type": "code",
   "execution_count": 7,
   "id": "d9d7e5d0",
   "metadata": {},
   "outputs": [
    {
     "name": "stdout",
     "output_type": "stream",
     "text": [
      "[[1 2 3]\n",
      " [4 5 6]\n",
      " [7 8 9]]\n",
      "15\n"
     ]
    }
   ],
   "source": [
    "#QST 02\n",
    "import numpy as np\n",
    "na=np.array([[1,2,3],[4,5,6],[7,8,9]])\n",
    "print(na)\n",
    "trace = np.trace(na)\n",
    "print(trace)"
   ]
  },
  {
   "cell_type": "code",
   "execution_count": 3,
   "id": "08977eee",
   "metadata": {},
   "outputs": [
    {
     "data": {
      "text/plain": [
       "array([[False,  True],\n",
       "       [ True, False]])"
      ]
     },
     "execution_count": 3,
     "metadata": {},
     "output_type": "execute_result"
    }
   ],
   "source": [
    "#QST 03\n",
    "z=2\n",
    "import numpy as np\n",
    "a=np.array([[1,8],[3,2]])\n",
    "2 < a"
   ]
  },
  {
   "cell_type": "code",
   "execution_count": 8,
   "id": "44c13b0c",
   "metadata": {},
   "outputs": [
    {
     "name": "stdout",
     "output_type": "stream",
     "text": [
      "[[ 3 14  6]\n",
      " [ 7 12 11]\n",
      " [ 9  8 14]]\n"
     ]
    }
   ],
   "source": [
    "#QST 04\n",
    "import numpy as np\n",
    "na=np.array([[1,8,5],[4,3,6],[9,0,7]])\n",
    "nb=np.array([[2,6,1],[3,9,5],[0,8,7]])\n",
    "R=np.add(na, nb)\n",
    "print(R)"
   ]
  },
  {
   "cell_type": "code",
   "execution_count": 9,
   "id": "c6e52b82",
   "metadata": {},
   "outputs": [
    {
     "data": {
      "text/plain": [
       "4.777777777777778"
      ]
     },
     "execution_count": 9,
     "metadata": {},
     "output_type": "execute_result"
    }
   ],
   "source": [
    "#QST 05\n",
    "import numpy as np\n",
    "na=np.array([[1,8,5],[4,3,6],[9,0,7]])\n",
    "np.mean(na)"
   ]
  },
  {
   "cell_type": "code",
   "execution_count": null,
   "id": "6377940e",
   "metadata": {},
   "outputs": [],
   "source": []
  }
 ],
 "metadata": {
  "kernelspec": {
   "display_name": "Python 3 (ipykernel)",
   "language": "python",
   "name": "python3"
  },
  "language_info": {
   "codemirror_mode": {
    "name": "ipython",
    "version": 3
   },
   "file_extension": ".py",
   "mimetype": "text/x-python",
   "name": "python",
   "nbconvert_exporter": "python",
   "pygments_lexer": "ipython3",
   "version": "3.9.12"
  }
 },
 "nbformat": 4,
 "nbformat_minor": 5
}
